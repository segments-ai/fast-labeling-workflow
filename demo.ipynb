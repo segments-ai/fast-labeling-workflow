{
 "cells": [
  {
   "cell_type": "code",
   "execution_count": null,
   "metadata": {},
   "outputs": [],
   "source": [
    "#####################################################################################################\n",
    "##  Uncomment following lines when running in Google Colab, to install the required dependencies.  ##\n",
    "#####################################################################################################\n",
    "\n",
    "# import torch\n",
    "# assert torch.cuda.is_available(), 'You need a GPU! In Colab, go to Runtime -> Change runtime type -> Hardware accelerator -> GPU'\n",
    "\n",
    "# !pip install segments-ai\n",
    "# !pip install pyyaml\n",
    "# !pip install torch\n",
    "# !pip install torchvision\n",
    "# !pip install scikit-image\n",
    "# !pip install setuptools wheel\n",
    "# !pip install 'git+https://github.com/facebookresearch/detectron2.git\n",
    "# !git clone https://github.com/segments-ai/fast-labeling-workflow\n",
    "# %cd fast-labeling-workflow"
   ]
  },
  {
   "cell_type": "markdown",
   "metadata": {},
   "source": [
    "# Speed up your image segmentation workflow with model-assisted labeling\n",
    "\n",
    "A large dataset of labeled images is the first thing you need in any serious computer vision project.\n",
    "Building such datasets is a time-consuming endeavour, involving lots of manual labeling work. This is especially true for tasks like image segmentation where the labels need to be very precise.\n",
    "\n",
    "One way to drastically speed up image labeling is by leveraging your machine learning models from the start. \n",
    "Instead of labeling the entire dataset manually, you can use your model to help you by iterating between image labeling and model training.\n",
    "\n",
    "This tutorial will show you how to achieve such a fast labeling workflow for image segmentation with Segments.ai."
   ]
  },
  {
   "cell_type": "markdown",
   "metadata": {},
   "source": [
    "![A fast labeling workflow](img/fast-labeling-workflow-diagram.png)"
   ]
  },
  {
   "cell_type": "markdown",
   "metadata": {},
   "source": [
    "[Segments.ai](https://segments.ai) is a labeling platform with powerful automation tools for image segmentation. \n",
    "It also features a flexible API and Python SDK, which enable you to quickly set up custom workflows by uploading images and labels directly from your code.\n",
    "\n",
    "We will walk you through a simple but efficient setup:\n",
    "\n",
    "1. Upload your images to Segments.ai, and label a small subset.\n",
    "2. Train a segmentation model on the labeled images.\n",
    "3. Generate label predictions on the remaining images and upload them.\n",
    "4. Correct the mistakes.\n",
    "\n",
    "You can find all code for this tutorial on [Github](https://github.com/segments-ai/fast-labeling-workflow), or follow along on [Google Colab](https://colab.research.google.com/github/segments-ai/fast-labeling-workflow/blob/master/demo.ipynb)."
   ]
  },
  {
   "cell_type": "markdown",
   "metadata": {},
   "source": [
    "## 1. Upload your images and label a small subset\n",
    "\n",
    "First, we need some images to label.\n",
    "\n",
    "If you have a folder of images on your pc, you can simply upload them to Segments.ai through the web interface: first create a new dataset, then upload the samples.\n",
    "\n",
    "But let's assume your data is in the cloud, and all you have is a list of image URLs. In this case, you can upload them to Segments.ai using our API or Python SDK. You need an API key for this, which can be created on your [account page](https://segments.ai/account).\n",
    "\n",
    "In this tutorial, our goal is to label a dataset of about 100 tomato images. First, we upload the images using the Python SDK:"
   ]
  },
  {
   "cell_type": "code",
   "execution_count": null,
   "metadata": {},
   "outputs": [],
   "source": [
    "from segments import SegmentsClient # Install this package with 'pip install segments-ai'\n",
    "from utils import get_image_urls\n",
    "\n",
    "# Set up the client\n",
    "client = SegmentsClient('YOUR_API_KEY')\n",
    "segments_dataset = client.add_dataset(\"tomatoes\")\n",
    "dataset_name = segments_dataset.full_name\n",
    "\n",
    "# Get a list of image URLs\n",
    "image_urls = get_image_urls('tomatoes')\n",
    "\n",
    "# Upload the images to Segments.ai\n",
    "for i, url in enumerate(image_urls):\n",
    "    sample_name = 'image_{:05}.jpg'.format(i)\n",
    "    attributes = {\n",
    "        \"image\": { \"url\": url }\n",
    "    }\n",
    "    result = client.add_sample(dataset_name, sample_name, attributes)\n",
    "    print('sample added')"
   ]
  },
  {
   "cell_type": "markdown",
   "metadata": {},
   "source": [
    "Once the images are uploaded, click the \"Start labeling\" button on the samples tab of your dataset and get to work! Rather than immediately labeling the entire dataset, let's start out by labeling around 20 images.\n",
    "\n",
    "Segments.ai's deep learning fueled superpixel tool makes the labeling a breeze."
   ]
  },
  {
   "cell_type": "markdown",
   "metadata": {},
   "source": [
    "## 2. Train a segmentation model on the labeled images\n",
    "\n",
    "After you've labeled a few images, go to the releases tab of your dataset and create a new release, for example with the name \"v0.1\". A release is a snapshot of your dataset at a particular point in time.\n",
    "\n",
    "Through the Python SDK, we can now initialize a SegmentsDataset from this release and visualize the labeled images. The SegmentsDataset is compatible with popular frameworks like PyTorch, Tensorflow and Keras."
   ]
  },
  {
   "cell_type": "code",
   "execution_count": null,
   "metadata": {
    "scrolled": true
   },
   "outputs": [],
   "source": [
    "from segments import SegmentsDataset\n",
    "from utils import visualize, train_model\n",
    "\n",
    "# Initialize a dataset from the release file\n",
    "release = client.get_release(dataset_name, 'v0.1')\n",
    "dataset = SegmentsDataset(release, labelset='ground-truth', filter_by='labeled')\n",
    "\n",
    "# Visualize a few samples in the dataset\n",
    "for sample in dataset:\n",
    "    print(sample['name'])    \n",
    "    visualize(sample['image'], sample['segmentation_bitmap']) "
   ]
  },
  {
   "cell_type": "markdown",
   "metadata": {},
   "source": [
    "Next, let's train a computer vision model on the labeled images. Here we use Facebook's Detectron2 framework to train the model, but you can just as easily plug in your own custom models and training code."
   ]
  },
  {
   "cell_type": "code",
   "execution_count": null,
   "metadata": {},
   "outputs": [],
   "source": [
    "# Train an instance segmentation model on the dataset\n",
    "from utils import train_model\n",
    "model = train_model(dataset)"
   ]
  },
  {
   "cell_type": "markdown",
   "metadata": {},
   "source": [
    "## 3. Generate and upload label predictions for the unlabeled images\n",
    "\n",
    "When the model is trained, we can run it on the unlabeled images to generate label predictions, and upload these predictions to Segments.ai:"
   ]
  },
  {
   "cell_type": "code",
   "execution_count": null,
   "metadata": {
    "scrolled": true
   },
   "outputs": [],
   "source": [
    "from segments.utils import bitmap2file\n",
    "\n",
    "# Initialize a new dataset, this time containing only unlabeled images\n",
    "dataset = SegmentsDataset(release, labelset='ground-truth', filter_by='unlabeled')\n",
    "\n",
    "for sample in dataset:\n",
    "    # Generate label predictions\n",
    "    image = sample['image']\n",
    "    segmentation_bitmap, annotations = model(image)\n",
    "    \n",
    "    # Visualize the predictions\n",
    "    visualize(image, segmentation_bitmap)\n",
    "    print(annotations)\n",
    "    \n",
    "    # Upload the predictions to Segments.ai\n",
    "    file = bitmap2file(segmentation_bitmap)\n",
    "    asset = client.upload_asset(file, 'label.png')    \n",
    "    attributes = {\n",
    "        'format_version': '0.1',\n",
    "        'annotations': annotations,\n",
    "        'segmentation_bitmap': { 'url': asset.url },\n",
    "    }\n",
    "    client.add_label(sample['uuid'], 'ground-truth', attributes, label_status='PRELABELED')"
   ]
  },
  {
   "cell_type": "markdown",
   "metadata": {},
   "source": [
    "## 4. Verify and correct the predicted labels\n",
    "\n",
    "Now go back to Segments.ai and click the \"Start labeling\" button again to continue labeling. This time, your job is quite a bit easier: instead of having to label each image from scratch, you can simply correct the few mistakes your model made!\n",
    "\n",
    "The superpixel technology makes it very easy to correct the mistakes, and is a real time-saver here."
   ]
  },
  {
   "cell_type": "markdown",
   "metadata": {},
   "source": [
    "## Next steps\n",
    "\n",
    "As you keep iterating between model training and labeling in this manner, your model will quickly get better and better. You'll reach a point where you're mostly just verifying the model's predictions, only having to correct the occasional mistakes on hard edge cases.\n",
    "\n",
    "Was this useful for you? Let us know! Make sure to check out the Segments.ai [documentation](https://docs.segments.ai/python-sdk) and don't hesitate to [contact us](https://segments.ai/contact) if you have any questions."
   ]
  }
 ],
 "metadata": {
  "kernelspec": {
   "display_name": "Python 3 (ipykernel)",
   "language": "python",
   "name": "python3"
  },
  "language_info": {
   "codemirror_mode": {
    "name": "ipython",
    "version": 3
   },
   "file_extension": ".py",
   "mimetype": "text/x-python",
   "name": "python",
   "nbconvert_exporter": "python",
   "pygments_lexer": "ipython3",
   "version": "3.12.4"
  }
 },
 "nbformat": 4,
 "nbformat_minor": 2
}
